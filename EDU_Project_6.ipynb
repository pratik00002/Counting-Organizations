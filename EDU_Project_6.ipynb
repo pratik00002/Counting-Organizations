{
 "cells": [
  {
   "cell_type": "code",
   "execution_count": 5,
   "id": "bc7f9324",
   "metadata": {},
   "outputs": [],
   "source": [
    "import sqlite3\n",
    "import re"
   ]
  },
  {
   "cell_type": "code",
   "execution_count": 6,
   "id": "b75fb8ad",
   "metadata": {},
   "outputs": [],
   "source": [
    "def extract_email_addresses(text):\n",
    "    return re.findall(r'[\\w\\.-]+@[\\w\\.-]+', text)"
   ]
  },
  {
   "cell_type": "code",
   "execution_count": 7,
   "id": "58648042",
   "metadata": {},
   "outputs": [],
   "source": [
    "def parse_domain(email):\n",
    "    return email.split('@')[-1]"
   ]
  },
  {
   "cell_type": "code",
   "execution_count": 8,
   "id": "2377477c",
   "metadata": {},
   "outputs": [],
   "source": [
    "conn = sqlite3.connect('email_counts.sqlite')\n",
    "cur = conn.cursor()"
   ]
  },
  {
   "cell_type": "code",
   "execution_count": 9,
   "id": "377c79ac",
   "metadata": {},
   "outputs": [
    {
     "data": {
      "text/plain": [
       "<sqlite3.Cursor at 0x16683a47030>"
      ]
     },
     "execution_count": 9,
     "metadata": {},
     "output_type": "execute_result"
    }
   ],
   "source": [
    "cur.execute('DROP TABLE IF EXISTS Counts')"
   ]
  },
  {
   "cell_type": "code",
   "execution_count": 11,
   "id": "474c6d2d",
   "metadata": {},
   "outputs": [
    {
     "name": "stdout",
     "output_type": "stream",
     "text": [
      "Enter file name: mbox.txt\n",
      "Counts:\n",
      "iupui.edu 16\n",
      "umich.edu 14\n",
      "uct.ac.za 12\n",
      "media.berkeley.edu 8\n",
      "caret.cam.ac.uk 2\n",
      "gmail.com 2\n"
     ]
    }
   ],
   "source": [
    "file_name = input('Enter file name: ')\n",
    "\n",
    "\n",
    "try:\n",
    "    with open(file_name, 'r') as file:\n",
    "        for line in file:\n",
    "            if line.startswith('From '):\n",
    "                emails = extract_email_addresses(line)\n",
    "                for email in emails:\n",
    "                    domain = parse_domain(email)\n",
    "                    # Update counts in the database\n",
    "                    cur.execute('SELECT count FROM Counts WHERE org = ? ', (domain,))\n",
    "                    row = cur.fetchone()\n",
    "                    if row is None:\n",
    "                        cur.execute('INSERT INTO Counts (org, count) VALUES (?, 1)', (domain,))\n",
    "                    else:\n",
    "                        cur.execute('UPDATE Counts SET count = count + 1 WHERE org = ?', (domain,))\n",
    "        conn.commit()\n",
    "\n",
    "except FileNotFoundError:\n",
    "    print(\"File not found:\", file_name)\n",
    "    quit()\n",
    "\n",
    "# Retrieve and print the results\n",
    "sqlstr = 'SELECT org, count FROM Counts ORDER BY count DESC LIMIT 10'\n",
    "\n",
    "print(\"Counts:\")\n",
    "for row in cur.execute(sqlstr):\n",
    "    print(row[0], row[1])\n",
    "cur.close()"
   ]
  },
  {
   "cell_type": "code",
   "execution_count": null,
   "id": "1186e8e7",
   "metadata": {},
   "outputs": [],
   "source": []
  }
 ],
 "metadata": {
  "kernelspec": {
   "display_name": "Python 3 (ipykernel)",
   "language": "python",
   "name": "python3"
  },
  "language_info": {
   "codemirror_mode": {
    "name": "ipython",
    "version": 3
   },
   "file_extension": ".py",
   "mimetype": "text/x-python",
   "name": "python",
   "nbconvert_exporter": "python",
   "pygments_lexer": "ipython3",
   "version": "3.8.12"
  }
 },
 "nbformat": 4,
 "nbformat_minor": 5
}
